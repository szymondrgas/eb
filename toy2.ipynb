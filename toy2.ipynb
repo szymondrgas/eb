{
 "cells": [
  {
   "cell_type": "code",
   "execution_count": 27,
   "metadata": {
    "collapsed": true,
    "nbpresent": {
     "id": "9ec740f9-bea7-4c3e-b4bc-b052d39c75e7"
    }
   },
   "outputs": [],
   "source": [
    "import edward as ed\n",
    "import matplotlib.pyplot as plt\n",
    "%matplotlib inline\n",
    "import numpy as np\n",
    "import tensorflow as tf\n",
    "import scipy.stats\n",
    "\n",
    "from edward.models import Normal"
   ]
  },
  {
   "cell_type": "markdown",
   "metadata": {},
   "source": [
    "$x_1 \\sim \\mathcal{N}(x_1; 1, 1)$ <br>\n",
    "$x_2 \\sim \\mathcal{N}(x_2; 2, 2)$"
   ]
  },
  {
   "cell_type": "code",
   "execution_count": 28,
   "metadata": {
    "collapsed": true,
    "nbpresent": {
     "id": "9703d241-b9d4-49c1-b9a0-f72d55bb25b1"
    }
   },
   "outputs": [],
   "source": [
    "x1 = Normal(loc=tf.ones(1), scale=tf.ones(1))\n",
    "x2 = Normal(loc=tf.ones(1)*2, scale=tf.ones(1)*2)"
   ]
  },
  {
   "cell_type": "code",
   "execution_count": 29,
   "metadata": {
    "collapsed": true,
    "nbpresent": {
     "id": "a1cbb3d9-12fc-4caf-8f56-be919f1474e3"
    }
   },
   "outputs": [],
   "source": [
    "sess = ed.get_session()"
   ]
  },
  {
   "cell_type": "code",
   "execution_count": 30,
   "metadata": {
    "collapsed": false,
    "nbpresent": {
     "id": "52b2b6ee-7e76-43b4-ae26-487d85857b6f"
    }
   },
   "outputs": [
    {
     "data": {
      "text/plain": [
       "array([2.5523179], dtype=float32)"
      ]
     },
     "execution_count": 30,
     "metadata": {},
     "output_type": "execute_result"
    }
   ],
   "source": [
    "sess.run(x1)"
   ]
  },
  {
   "cell_type": "code",
   "execution_count": 31,
   "metadata": {
    "collapsed": true,
    "nbpresent": {
     "id": "ad9caa7c-a347-45b5-bb48-eceb6fa785c4"
    }
   },
   "outputs": [],
   "source": [
    "samples1 = []\n",
    "for i in range(1000):\n",
    "    samples1.append(sess.run(x1))\n",
    "samples1 = np.vstack(samples1)\n",
    "\n",
    "samples2 = []\n",
    "for i in range(1000):\n",
    "    samples2.append(sess.run(x2))\n",
    "samples2 = np.vstack(samples2)"
   ]
  },
  {
   "cell_type": "code",
   "execution_count": null,
   "metadata": {
    "collapsed": true,
    "nbpresent": {
     "id": "44cd5ebd-8135-4a9a-9fc8-58daad48c362"
    }
   },
   "outputs": [],
   "source": []
  },
  {
   "cell_type": "code",
   "execution_count": 32,
   "metadata": {
    "collapsed": false,
    "nbpresent": {
     "id": "69d406de-4fe6-4399-8abf-1616ad5e3357"
    }
   },
   "outputs": [
    {
     "data": {
      "image/png": "[encoded data removed]",
      "text/plain": [
       "<matplotlib.figure.Figure at 0x7f29d0e47e90>"
      ]
     },
     "metadata": {},
     "output_type": "display_data"
    }
   ],
   "source": [
    "plt.subplot(1, 2, 1)\n",
    "plt.hist(samples1, 50)\n",
    "plt.subplot(1, 2, 2)\n",
    "plt.hist(samples2, 50)\n",
    "plt.show()"
   ]
  },
  {
   "cell_type": "code",
   "execution_count": 33,
   "metadata": {
    "collapsed": false,
    "nbpresent": {
     "id": "3339c432-dcae-40e4-9354-986157544931"
    }
   },
   "outputs": [
    {
     "name": "stdout",
     "output_type": "stream",
     "text": [
      "[array([1.], dtype=float32), array([1.], dtype=float32)]\n",
      "[array([2.], dtype=float32), array([4.], dtype=float32)]\n"
     ]
    }
   ],
   "source": [
    "print(sess.run([x1.mean(), x1.variance()]))\n",
    "print(sess.run([x2.mean(), x2.variance()]))"
   ]
  },
  {
   "cell_type": "code",
   "execution_count": 34,
   "metadata": {
    "collapsed": true,
    "nbpresent": {
     "id": "1f59b01c-5274-4d32-853d-135fd3415d9b"
    }
   },
   "outputs": [],
   "source": [
    "x3 = x1+x2"
   ]
  },
  {
   "cell_type": "code",
   "execution_count": 35,
   "metadata": {
    "collapsed": false,
    "nbpresent": {
     "id": "892c0dc2-863f-46cd-a2ea-ff4fdb29780a"
    }
   },
   "outputs": [
    {
     "data": {
      "text/plain": [
       "tensorflow.python.framework.ops.Tensor"
      ]
     },
     "execution_count": 35,
     "metadata": {},
     "output_type": "execute_result"
    }
   ],
   "source": [
    "type(x3)"
   ]
  },
  {
   "cell_type": "code",
   "execution_count": 36,
   "metadata": {
    "collapsed": true,
    "nbpresent": {
     "id": "394eff30-79ec-49bf-a6f8-bfdc8049b5d9"
    }
   },
   "outputs": [],
   "source": [
    "samples3 = []\n",
    "for i in range(1000):\n",
    "    samples3.append(sess.run(x3))\n",
    "samples3 = np.vstack(samples3)\n"
   ]
  },
  {
   "cell_type": "code",
   "execution_count": 37,
   "metadata": {
    "collapsed": false,
    "nbpresent": {
     "id": "cf8c4619-e795-48a5-aeb6-df640cc3f50c"
    }
   },
   "outputs": [
    {
     "data": {
      "image/png": "[encoded data removed]",
      "text/plain": [
       "<matplotlib.figure.Figure at 0x7f29d0d5e390>"
      ]
     },
     "metadata": {},
     "output_type": "display_data"
    }
   ],
   "source": [
    "plt.hist(samples3, 50)\n",
    "plt.show()"
   ]
  },
  {
   "cell_type": "code",
   "execution_count": 38,
   "metadata": {
    "collapsed": false,
    "nbpresent": {
     "id": "c9ebcd1c-4e07-45a0-bab8-b34ac29772c0"
    }
   },
   "outputs": [
    {
     "name": "stdout",
     "output_type": "stream",
     "text": [
      "2.944329\n",
      "5.4965467\n"
     ]
    }
   ],
   "source": [
    "print(samples3.mean())\n",
    "print(samples3.var())"
   ]
  },
  {
   "cell_type": "markdown",
   "metadata": {
    "nbpresent": {
     "id": "cf3121a0-53a1-4bf8-9be8-c0bd396b6118"
    }
   },
   "source": [
    "# Bayesian linear regression"
   ]
  },
  {
   "cell_type": "markdown",
   "metadata": {
    "nbpresent": {
     "id": "6d93310c-0ba1-421a-a8da-f1ff2f1166cd"
    }
   },
   "source": [
    "$p(w)=\\mathcal{N}(w;\\mu,\\sigma)$ <br>\n",
    "$p(y|w, x)=\\mathcal{N}(y;wx,\\sigma_y)$\n",
    "\n",
    "\n",
    "Input $x$ is a deterministic variable.\n",
    "Variables $\\mu$, $\\sigma$ and $\\sigma_w$ are known. <br>\n",
    "Let us say: $\\mu=0$, $\\sigma=1$, and $\\sigma_w=1$."
   ]
  },
  {
   "cell_type": "code",
   "execution_count": 39,
   "metadata": {
    "collapsed": false,
    "nbpresent": {
     "id": "50d2aee8-135c-4f8e-a47c-bf4a168c76e1"
    }
   },
   "outputs": [],
   "source": [
    "x_tf = tf.placeholder(tf.float32, (3, 1))\n",
    "w_tf = Normal(loc=tf.zeros(1), scale=tf.ones(1))\n",
    "y_tf = Normal(loc=w_tf*x_tf, scale=tf.ones(1))"
   ]
  },
  {
   "cell_type": "code",
   "execution_count": 40,
   "metadata": {
    "collapsed": false,
    "nbpresent": {
     "id": "ddac7998-8242-452e-a270-00b3ee888d9e"
    }
   },
   "outputs": [
    {
     "data": {
      "image/png": "[encoded data removed]",
      "text/plain": [
       "<matplotlib.figure.Figure at 0x7f29d07c9f10>"
      ]
     },
     "metadata": {},
     "output_type": "display_data"
    }
   ],
   "source": [
    "w = np.random.randn(1)\n",
    "x = np.arange(3)\n",
    "y = w*x + np.random.randn(*x.shape)\n",
    "plt.plot(x, y, '.')\n",
    "plt.show()"
   ]
  },
  {
   "cell_type": "code",
   "execution_count": 41,
   "metadata": {
    "collapsed": false,
    "nbpresent": {
     "id": "ad8bd472-6968-4dd9-a938-a5a1c2f09ae3"
    }
   },
   "outputs": [
    {
     "name": "stdout",
     "output_type": "stream",
     "text": [
      "[-0.71644182]\n"
     ]
    }
   ],
   "source": [
    "print(w)"
   ]
  },
  {
   "cell_type": "markdown",
   "metadata": {
    "nbpresent": {
     "id": "d9bbbecd-4850-4aa6-bd76-06f9f3a8702a"
    }
   },
   "source": [
    "How $w$ is distributed given a datapoint $(x,y)$?"
   ]
  },
  {
   "cell_type": "markdown",
   "metadata": {
    "nbpresent": {
     "id": "799609bb-fe3c-4157-9b19-264095f9211c"
    }
   },
   "source": [
    "$p(w|x,y)=\\frac{p(y, w; x)}{p(y; x)}=\\frac{p(y|w;x)p(w)}{\\int p(y|w ;x)p(w))dw}$"
   ]
  },
  {
   "cell_type": "code",
   "execution_count": 42,
   "metadata": {
    "collapsed": true,
    "nbpresent": {
     "id": "c4eacb38-f2a0-4a1c-99fc-01ed2f415078"
    }
   },
   "outputs": [],
   "source": [
    "w_dom = np.linspace(-3, 3, 100)\n",
    "w_joint = scipy.stats.norm.pdf(y[2], loc=w_dom*x[2], scale=1)*scipy.stats.norm.pdf(w_dom, loc=0, scale=1)"
   ]
  },
  {
   "cell_type": "code",
   "execution_count": 43,
   "metadata": {
    "collapsed": false,
    "nbpresent": {
     "id": "28cbb757-cfa0-4e74-a536-a09a9173ff84"
    }
   },
   "outputs": [
    {
     "data": {
      "image/png": "[encoded data removed]",
      "text/plain": [
       "<matplotlib.figure.Figure at 0x7f29d0698e50>"
      ]
     },
     "metadata": {},
     "output_type": "display_data"
    }
   ],
   "source": [
    "plt.plot(w_dom, w_joint)\n",
    "plt.show()"
   ]
  },
  {
   "cell_type": "markdown",
   "metadata": {
    "nbpresent": {
     "id": "e188a107-034e-4904-954e-8f8249b5bde3"
    }
   },
   "source": [
    "Dataset is defined as\n",
    "$\\mathcal{D}=\\{(x_i, y_i)\\}_{i=1:N}$."
   ]
  },
  {
   "cell_type": "markdown",
   "metadata": {
    "nbpresent": {
     "id": "fa459fb9-8dfc-4f4e-bc44-fade182d3f88"
    }
   },
   "source": [
    "$p(y, \\mathcal{D}, w)=p(w)\\prod_{i=1}^N p(y_i|x_i;w)$"
   ]
  },
  {
   "cell_type": "code",
   "execution_count": 44,
   "metadata": {
    "collapsed": true,
    "nbpresent": {
     "id": "5e926c33-8ff0-4360-8dd4-d7e1eedee915"
    }
   },
   "outputs": [],
   "source": [
    "w_dom = w_dom[None, :]\n",
    "x = x[:, None]\n",
    "y = y[:, None]"
   ]
  },
  {
   "cell_type": "code",
   "execution_count": 45,
   "metadata": {
    "collapsed": true,
    "nbpresent": {
     "id": "4485727a-2ac0-44cf-b6fd-917d3a25aec6"
    }
   },
   "outputs": [],
   "source": [
    "joint_data = np.prod(scipy.stats.norm.pdf(y, loc=w_dom*x, scale=1), axis=0)*scipy.stats.norm.pdf(w_dom, loc=0, scale=1)"
   ]
  },
  {
   "cell_type": "code",
   "execution_count": 46,
   "metadata": {
    "collapsed": false,
    "nbpresent": {
     "id": "7c8cddd8-eb25-48b7-89e0-e07e5a67085b"
    }
   },
   "outputs": [
    {
     "data": {
      "image/png": "[encoded data removed]",
      "text/plain": [
       "<matplotlib.figure.Figure at 0x7f29d0d1afd0>"
      ]
     },
     "metadata": {},
     "output_type": "display_data"
    }
   ],
   "source": [
    "appr_post = joint_data/joint_data.sum()\n",
    "plt.plot(w_dom[0], appr_post[0])\n",
    "plt.show()"
   ]
  },
  {
   "cell_type": "code",
   "execution_count": 47,
   "metadata": {
    "collapsed": true,
    "nbpresent": {
     "id": "27c955a8-e85b-4b34-8163-f0fe9fa2995b"
    }
   },
   "outputs": [],
   "source": [
    "m = tf.Variable(np.float32([2.0]))\n",
    "s = tf.Variable(np.float32([1.0]))\n",
    "qw = Normal(loc=m, scale=tf.nn.softplus(s))"
   ]
  },
  {
   "cell_type": "code",
   "execution_count": 48,
   "metadata": {
    "collapsed": false,
    "nbpresent": {
     "id": "7690dddf-a34c-4b99-aeed-2bdc74d02d8f"
    }
   },
   "outputs": [],
   "source": [
    "inference = ed.KLqp({w_tf: qw}, data={x_tf : x, y_tf : y})"
   ]
  },
  {
   "cell_type": "code",
   "execution_count": 49,
   "metadata": {
    "collapsed": false,
    "nbpresent": {
     "id": "f6964e45-4ee1-411b-8d00-9ce6166d20db"
    }
   },
   "outputs": [
    {
     "name": "stdout",
     "output_type": "stream",
     "text": [
      "100/100 [100%] ██████████████████████████████ Elapsed: 1s | Loss: 4.716\n"
     ]
    }
   ],
   "source": [
    "inference.run(n_samples=10, n_iter=100)"
   ]
  },
  {
   "cell_type": "code",
   "execution_count": 50,
   "metadata": {
    "collapsed": false,
    "nbpresent": {
     "id": "cb6a1854-52da-4f00-af61-5bced439ecc8"
    }
   },
   "outputs": [
    {
     "name": "stdout",
     "output_type": "stream",
     "text": [
      "[-0.6819384]\n"
     ]
    }
   ],
   "source": [
    "print sess.run(s)"
   ]
  },
  {
   "cell_type": "code",
   "execution_count": 51,
   "metadata": {
    "collapsed": false,
    "nbpresent": {
     "id": "339ae5a0-06a1-4b69-9b97-a75d3644fd27"
    }
   },
   "outputs": [
    {
     "name": "stdout",
     "output_type": "stream",
     "text": [
      "[-1.2205653]\n"
     ]
    }
   ],
   "source": [
    "print sess.run(m)"
   ]
  },
  {
   "cell_type": "code",
   "execution_count": 63,
   "metadata": {
    "collapsed": false,
    "nbpresent": {
     "id": "c0f0634c-dd45-40be-bfd3-02d598a8cb6c"
    }
   },
   "outputs": [
    {
     "name": "stdout",
     "output_type": "stream",
     "text": [
      "(1, 100)\n"
     ]
    },
    {
     "data": {
      "image/png": "[encoded data removed]",
      "text/plain": [
       "<matplotlib.figure.Figure at 0x7f29c9aa0f10>"
      ]
     },
     "metadata": {},
     "output_type": "display_data"
    }
   ],
   "source": [
    "variational_pdf = scipy.stats.norm.pdf(w_dom, loc=sess.run(m)[0], scale=np.log(1.0+np.exp(sess.run(s)))[0])\n",
    "\n",
    "variational_pdf/=np.max(variational_pdf)\n",
    "appr_post/=np.max(appr_post)\n",
    "\n",
    "print variational_pdf.shape\n",
    "plt.plot(w_dom[0], appr_post[0], w_dom[0], variational_pdf[0])\n",
    "plt.show()"
   ]
  },
  {
   "cell_type": "code",
   "execution_count": 56,
   "metadata": {
    "collapsed": false
   },
   "outputs": [
    {
     "data": {
      "text/plain": [
       "-1.2205653"
      ]
     },
     "execution_count": 56,
     "metadata": {},
     "output_type": "execute_result"
    }
   ],
   "source": [
    "sess.run(m)[0]"
   ]
  },
  {
   "cell_type": "markdown",
   "metadata": {},
   "source": [
    "# How variational approximation algorithm works?"
   ]
  },
  {
   "cell_type": "markdown",
   "metadata": {},
   "source": [
    "The core idea involves two steps\n",
    "- posit a family of distributions over latent variable $w$: $q(w;\\lambda)$, where $\\lambda$ a set of parameters of the distribution,\n",
    "- match $q(w;\\lambda)$ to the posterior by optimizing over its parameters $\\lambda$."
   ]
  },
  {
   "cell_type": "markdown",
   "metadata": {},
   "source": [
    "In our example we choose the normal distribution\n",
    "$q(w;\\lambda)=\\mathcal{N}(w;\\mu_w,\\sigma_w)$ <br> ($\\lambda=\\{\\mu_w,\\sigma_w\\})$"
   ]
  },
  {
   "cell_type": "markdown",
   "metadata": {},
   "source": [
    "$\\lambda^*=\\arg\\underset{\\lambda}{\\min}KL(p(w|x,y)|q(w;\\lambda))$"
   ]
  },
  {
   "cell_type": "markdown",
   "metadata": {},
   "source": [
    "$\\mu_w,\\sigma_w=\\arg\\underset{\\mu_w,\\sigma_w}{\\min}KL\\left(\\mathcal{N}(w,\\mu_w,\\sigma_w)\\|p(w|x,y)\\right)$"
   ]
  },
  {
   "cell_type": "markdown",
   "metadata": {},
   "source": [
    "$\\log p(x, y)=KL\\left(\\mathcal{N}(w;\\mu_w,\\sigma_w\\|p(w|x, y))\\right)+\\mathbb{E}_{\\mathcal{N}(w;\\mu,\\sigma)}\\left[\\log p(w, x, y)- \\log \\mathcal{N}(w;\\mu, \\sigma)\\right]$ "
   ]
  },
  {
   "cell_type": "markdown",
   "metadata": {},
   "source": [
    "$\\text{ELBO}(\\mu_w,\\sigma_w)=\\mathbb{E}_{\\mathcal{N}(w; \\mu, \\sigma)}\\left[\\log p(x, y, w) -\\log\\mathcal{N}(w;\\mu_w,\\sigma_w)\\right]$"
   ]
  },
  {
   "cell_type": "markdown",
   "metadata": {},
   "source": [
    "## Reparametrization gradient"
   ]
  },
  {
   "cell_type": "markdown",
   "metadata": {},
   "source": [
    "$w\\sim\\mu_w+\\sigma_w\\mathcal{N}(0, 1)$"
   ]
  },
  {
   "cell_type": "markdown",
   "metadata": {},
   "source": [
    "$\\epsilon\\sim q(\\epsilon)$ <br>\n",
    "$w=w(\\epsilon;\\mu_w,\\sigma_w)$"
   ]
  },
  {
   "cell_type": "markdown",
   "metadata": {},
   "source": [
    "$\\nabla ELBO(\\mu_w,\\sigma_w)=\\mathbb{E}_{q(\\epsilon)}\\left[\\nabla_{\\mu,\\sigma}(\\log p(x, y, w(\\epsilon, \\mu, \\sigma))-\\log q(w(\\epsilon;\\mu,\\sigma);\\mu,\\sigma)\\right]$"
   ]
  },
  {
   "cell_type": "markdown",
   "metadata": {},
   "source": [
    "$\\nabla ELBO(\\mu,\\sigma)\\approx\\frac{1}{S}\\sum_{s=1}^S\\left[\\nabla_{\\mu,\\sigma}(\\log p(x,y,w(\\epsilon_s;\\mu,\\sigma))-\\log q(w(\\epsilon_s;\\mu,\\sigma);\\mu,\\sigma)\\right]$"
   ]
  },
  {
   "cell_type": "code",
   "execution_count": null,
   "metadata": {
    "collapsed": true
   },
   "outputs": [],
   "source": []
  }
 ],
 "metadata": {
  "kernelspec": {
   "display_name": "Python [anaconda2]",
   "language": "python",
   "name": "Python [anaconda2]"
  },
  "language_info": {
   "codemirror_mode": {
    "name": "ipython",
    "version": 2
   },
   "file_extension": ".py",
   "mimetype": "text/x-python",
   "name": "python",
   "nbconvert_exporter": "python",
   "pygments_lexer": "ipython2",
   "version": "2.7.12"
  },
  "nbpresent": {
   "slides": {
    "155e0483-9c7f-4b48-8c94-98f17bd88c51": {
     "id": "155e0483-9c7f-4b48-8c94-98f17bd88c51",
     "prev": "808c317d-193e-406e-8c08-2b35ae1fdda2",
     "regions": {
      "7489411c-8ece-4fdb-884b-c9ecbcabe543": {
       "attrs": {
        "height": 0.8,
        "width": 0.8,
        "x": 0.1,
        "y": 0.1
       },
       "content": {
        "cell": "799609bb-fe3c-4157-9b19-264095f9211c",
        "part": "whole"
       },
       "id": "7489411c-8ece-4fdb-884b-c9ecbcabe543"
      }
     }
    },
    "18439fdd-c802-4a69-8f4e-180f38f825d9": {
     "id": "18439fdd-c802-4a69-8f4e-180f38f825d9",
     "prev": "441bdfc7-3487-4fcb-b9ff-93ee75ef9630",
     "regions": {
      "086bf58c-3e0d-4a44-8107-a3efdc0c4bc8": {
       "attrs": {
        "height": 0.8,
        "width": 0.8,
        "x": 0.1,
        "y": 0.1
       },
       "content": {
        "cell": "cb6a1854-52da-4f00-af61-5bced439ecc8",
        "part": "whole"
       },
       "id": "086bf58c-3e0d-4a44-8107-a3efdc0c4bc8"
      }
     }
    },
    "2d7ac16b-655a-4827-963e-783f254694f6": {
     "id": "2d7ac16b-655a-4827-963e-783f254694f6",
     "prev": "cf391411-e144-46d1-a677-ce89e9032c3b",
     "regions": {
      "197252fc-d284-4d78-95dd-13e3e04ae292": {
       "attrs": {
        "height": 0.8,
        "width": 0.8,
        "x": 0.1,
        "y": 0.1
       },
       "content": {
        "cell": "5e926c33-8ff0-4360-8dd4-d7e1eedee915",
        "part": "whole"
       },
       "id": "197252fc-d284-4d78-95dd-13e3e04ae292"
      }
     }
    },
    "4364c1a9-c476-4cc7-9465-a1232f4e115d": {
     "id": "4364c1a9-c476-4cc7-9465-a1232f4e115d",
     "prev": "155e0483-9c7f-4b48-8c94-98f17bd88c51",
     "regions": {
      "0dbd7608-2dd3-4d87-a156-0dc3c3975add": {
       "attrs": {
        "height": 0.8,
        "width": 0.8,
        "x": 0.1,
        "y": 0.1
       },
       "content": {
        "cell": "c4eacb38-f2a0-4a1c-99fc-01ed2f415078",
        "part": "whole"
       },
       "id": "0dbd7608-2dd3-4d87-a156-0dc3c3975add"
      }
     }
    },
    "441bdfc7-3487-4fcb-b9ff-93ee75ef9630": {
     "id": "441bdfc7-3487-4fcb-b9ff-93ee75ef9630",
     "prev": "e14027be-59bf-4737-a818-3890c65beea9",
     "regions": {
      "0fa2075d-8403-49cb-8aac-1495875354ae": {
       "attrs": {
        "height": 0.8,
        "width": 0.8,
        "x": 0.1,
        "y": 0.1
       },
       "content": {
        "cell": "f6964e45-4ee1-411b-8d00-9ce6166d20db",
        "part": "whole"
       },
       "id": "0fa2075d-8403-49cb-8aac-1495875354ae"
      }
     }
    },
    "45b8a5fd-3769-4c1c-a962-fbd4c8b342b8": {
     "id": "45b8a5fd-3769-4c1c-a962-fbd4c8b342b8",
     "prev": "5ce7fb76-3baf-4984-837f-723a3aa285ee",
     "regions": {
      "5e351817-6c4d-4a47-8b48-2e5a99b424ac": {
       "attrs": {
        "height": 0.8,
        "width": 0.8,
        "x": 0.1,
        "y": 0.1
       },
       "content": {
        "cell": "c0f0634c-dd45-40be-bfd3-02d598a8cb6c",
        "part": "whole"
       },
       "id": "5e351817-6c4d-4a47-8b48-2e5a99b424ac"
      }
     }
    },
    "48d0a34f-7e7d-4238-9558-70563e724709": {
     "id": "48d0a34f-7e7d-4238-9558-70563e724709",
     "prev": "b100e50a-c656-47b7-8006-f266f0d44759",
     "regions": {
      "8afdfe93-77e9-47b8-bf19-b6b86c270b07": {
       "attrs": {
        "height": 0.8,
        "width": 0.8,
        "x": 0.1,
        "y": 0.1
       },
       "content": {
        "cell": "cf8c4619-e795-48a5-aeb6-df640cc3f50c",
        "part": "whole"
       },
       "id": "8afdfe93-77e9-47b8-bf19-b6b86c270b07"
      }
     }
    },
    "4d4f31a0-e549-480b-afd3-8b3db4fbdf57": {
     "id": "4d4f31a0-e549-480b-afd3-8b3db4fbdf57",
     "prev": "8aff212f-b2f1-4f6e-ae98-5d39cccdb5f7",
     "regions": {
      "73ed983a-0c88-47d4-8d43-398943de6484": {
       "attrs": {
        "height": 0.8,
        "width": 0.8,
        "x": 0.1,
        "y": 0.1
       },
       "content": {
        "cell": "1f59b01c-5274-4d32-853d-135fd3415d9b",
        "part": "whole"
       },
       "id": "73ed983a-0c88-47d4-8d43-398943de6484"
      }
     }
    },
    "5787bd43-cf8a-4599-b234-e2d5c46dff17": {
     "id": "5787bd43-cf8a-4599-b234-e2d5c46dff17",
     "prev": "2d7ac16b-655a-4827-963e-783f254694f6",
     "regions": {
      "fead9fba-82a1-4360-9820-e5673bade20a": {
       "attrs": {
        "height": 0.8,
        "width": 0.8,
        "x": 0.1,
        "y": 0.1
       },
       "content": {
        "cell": "4485727a-2ac0-44cf-b6fd-917d3a25aec6",
        "part": "whole"
       },
       "id": "fead9fba-82a1-4360-9820-e5673bade20a"
      }
     }
    },
    "5ce7fb76-3baf-4984-837f-723a3aa285ee": {
     "id": "5ce7fb76-3baf-4984-837f-723a3aa285ee",
     "prev": "18439fdd-c802-4a69-8f4e-180f38f825d9",
     "regions": {
      "e3619a0f-a705-4b53-b434-7d9230fc482d": {
       "attrs": {
        "height": 0.8,
        "width": 0.8,
        "x": 0.1,
        "y": 0.1
       },
       "content": {
        "cell": "339ae5a0-06a1-4b69-9b97-a75d3644fd27",
        "part": "whole"
       },
       "id": "e3619a0f-a705-4b53-b434-7d9230fc482d"
      }
     }
    },
    "67a656da-6bcd-4a89-b6c4-eebeb6659003": {
     "id": "67a656da-6bcd-4a89-b6c4-eebeb6659003",
     "prev": null,
     "regions": {
      "81dfeaca-09c8-4373-a3e0-f1dcce6e06d4": {
       "attrs": {
        "height": 0.8,
        "width": 0.8,
        "x": 0.1,
        "y": 0.1
       },
       "id": "81dfeaca-09c8-4373-a3e0-f1dcce6e06d4"
      }
     }
    },
    "808c317d-193e-406e-8c08-2b35ae1fdda2": {
     "id": "808c317d-193e-406e-8c08-2b35ae1fdda2",
     "prev": "fb326773-9f70-4f47-b214-351b48896c42",
     "regions": {
      "5b3d01f0-eb07-44e9-ba61-24f41f565a5f": {
       "attrs": {
        "height": 0.8,
        "width": 0.8,
        "x": 0.1,
        "y": 0.1
       },
       "content": {
        "cell": "d9bbbecd-4850-4aa6-bd76-06f9f3a8702a",
        "part": "whole"
       },
       "id": "5b3d01f0-eb07-44e9-ba61-24f41f565a5f"
      }
     }
    },
    "8968ce85-1d13-4d9f-996f-ffb03c2ffa75": {
     "id": "8968ce85-1d13-4d9f-996f-ffb03c2ffa75",
     "prev": "48d0a34f-7e7d-4238-9558-70563e724709",
     "regions": {
      "5fb62f73-d6e6-4ece-8e4d-1f084e9a28ed": {
       "attrs": {
        "height": 0.8,
        "width": 0.8,
        "x": 0.1,
        "y": 0.1
       },
       "content": {
        "cell": "c9ebcd1c-4e07-45a0-bab8-b34ac29772c0",
        "part": "whole"
       },
       "id": "5fb62f73-d6e6-4ece-8e4d-1f084e9a28ed"
      }
     }
    },
    "8aff212f-b2f1-4f6e-ae98-5d39cccdb5f7": {
     "id": "8aff212f-b2f1-4f6e-ae98-5d39cccdb5f7",
     "prev": "b43ac6df-ce00-4eff-be01-9f8c4973da0e",
     "regions": {
      "c0106dc2-41bd-42a1-ad46-93b9a05683e4": {
       "attrs": {
        "height": 0.8,
        "width": 0.8,
        "x": 0.1,
        "y": 0.1
       },
       "content": {
        "cell": "3339c432-dcae-40e4-9354-986157544931",
        "part": "whole"
       },
       "id": "c0106dc2-41bd-42a1-ad46-93b9a05683e4"
      }
     }
    },
    "9d40299a-93ef-4ac9-89f1-020e08516276": {
     "id": "9d40299a-93ef-4ac9-89f1-020e08516276",
     "prev": "c7ab4209-1980-4d5e-8f52-1af5fea291ec",
     "regions": {
      "a16e12c3-8457-451f-bf8e-03765f74d75e": {
       "attrs": {
        "height": 0.8,
        "width": 0.8,
        "x": 0.1,
        "y": 0.1
       },
       "content": {
        "cell": "a1cbb3d9-12fc-4caf-8f56-be919f1474e3",
        "part": "whole"
       },
       "id": "a16e12c3-8457-451f-bf8e-03765f74d75e"
      }
     }
    },
    "b100e50a-c656-47b7-8006-f266f0d44759": {
     "id": "b100e50a-c656-47b7-8006-f266f0d44759",
     "prev": "bd793c84-4be7-4527-baa7-b8d991958941",
     "regions": {
      "84758cd9-d73c-4fe0-ad0d-8bb16f348bfa": {
       "attrs": {
        "height": 0.8,
        "width": 0.8,
        "x": 0.1,
        "y": 0.1
       },
       "content": {
        "cell": "394eff30-79ec-49bf-a6f8-bfdc8049b5d9",
        "part": "whole"
       },
       "id": "84758cd9-d73c-4fe0-ad0d-8bb16f348bfa"
      }
     }
    },
    "b43ac6df-ce00-4eff-be01-9f8c4973da0e": {
     "id": "b43ac6df-ce00-4eff-be01-9f8c4973da0e",
     "prev": "d58dcc0a-e773-4cd6-aa95-e788a1388058",
     "regions": {
      "4ba04095-62e8-49a3-8bc7-7970e717e48a": {
       "attrs": {
        "height": 0.8,
        "width": 0.8,
        "x": 0.1,
        "y": 0.1
       },
       "content": {
        "cell": "69d406de-4fe6-4399-8abf-1616ad5e3357",
        "part": "whole"
       },
       "id": "4ba04095-62e8-49a3-8bc7-7970e717e48a"
      }
     }
    },
    "bd793c84-4be7-4527-baa7-b8d991958941": {
     "id": "bd793c84-4be7-4527-baa7-b8d991958941",
     "prev": "4d4f31a0-e549-480b-afd3-8b3db4fbdf57",
     "regions": {
      "efb3d831-b8c5-4c50-942c-ecbf8e81c3cf": {
       "attrs": {
        "height": 0.8,
        "width": 0.8,
        "x": 0.1,
        "y": 0.1
       },
       "content": {
        "cell": "892c0dc2-863f-46cd-a2ea-ff4fdb29780a",
        "part": "whole"
       },
       "id": "efb3d831-b8c5-4c50-942c-ecbf8e81c3cf"
      }
     }
    },
    "c56112db-9a7e-467f-8456-f6e12c40fa29": {
     "id": "c56112db-9a7e-467f-8456-f6e12c40fa29",
     "prev": "8968ce85-1d13-4d9f-996f-ffb03c2ffa75",
     "regions": {
      "c68f941a-b89f-47e5-86c5-07bd381077d1": {
       "attrs": {
        "height": 0.8,
        "width": 0.8,
        "x": 0.1,
        "y": 0.1
       },
       "content": {
        "cell": "cf3121a0-53a1-4bf8-9be8-c0bd396b6118",
        "part": "whole"
       },
       "id": "c68f941a-b89f-47e5-86c5-07bd381077d1"
      }
     }
    },
    "c7ab4209-1980-4d5e-8f52-1af5fea291ec": {
     "id": "c7ab4209-1980-4d5e-8f52-1af5fea291ec",
     "prev": "67a656da-6bcd-4a89-b6c4-eebeb6659003",
     "regions": {
      "0171b9ed-7474-4703-941d-afdea6be95e1": {
       "attrs": {
        "height": 0.8,
        "width": 0.8,
        "x": 0.1,
        "y": 0.1
       },
       "content": {
        "cell": "9703d241-b9d4-49c1-b9a0-f72d55bb25b1",
        "part": "whole"
       },
       "id": "0171b9ed-7474-4703-941d-afdea6be95e1"
      }
     }
    },
    "cf391411-e144-46d1-a677-ce89e9032c3b": {
     "id": "cf391411-e144-46d1-a677-ce89e9032c3b",
     "prev": "fd7a8f10-eb55-4eed-a4b9-e73d9332b819",
     "regions": {
      "24ac3f74-9604-4cfd-b3be-7ef15ae5aff3": {
       "attrs": {
        "height": 0.8,
        "width": 0.8,
        "x": 0.1,
        "y": 0.1
       },
       "content": {
        "cell": "fa459fb9-8dfc-4f4e-bc44-fade182d3f88",
        "part": "whole"
       },
       "id": "24ac3f74-9604-4cfd-b3be-7ef15ae5aff3"
      }
     }
    },
    "d58dcc0a-e773-4cd6-aa95-e788a1388058": {
     "id": "d58dcc0a-e773-4cd6-aa95-e788a1388058",
     "prev": "e2b94c8c-cddc-45e7-8a1a-71c3625a5887",
     "regions": {
      "e27c5ee4-7753-4947-99ae-3ee5ba200bed": {
       "attrs": {
        "height": 0.8,
        "width": 0.8,
        "x": 0.1,
        "y": 0.1
       },
       "content": {
        "cell": "44cd5ebd-8135-4a9a-9fc8-58daad48c362",
        "part": "whole"
       },
       "id": "e27c5ee4-7753-4947-99ae-3ee5ba200bed"
      }
     }
    },
    "e0bf4d07-502a-41b8-9eef-972ccb44afe8": {
     "id": "e0bf4d07-502a-41b8-9eef-972ccb44afe8",
     "prev": "5787bd43-cf8a-4599-b234-e2d5c46dff17",
     "regions": {
      "838ef25c-cb72-456a-b660-1ab4df9634a0": {
       "attrs": {
        "height": 0.8,
        "width": 0.8,
        "x": 0.1,
        "y": 0.1
       },
       "content": {
        "cell": "7c8cddd8-eb25-48b7-89e0-e07e5a67085b",
        "part": "whole"
       },
       "id": "838ef25c-cb72-456a-b660-1ab4df9634a0"
      }
     }
    },
    "e14027be-59bf-4737-a818-3890c65beea9": {
     "id": "e14027be-59bf-4737-a818-3890c65beea9",
     "prev": "f6ef4144-e890-42c4-8784-34323700e0c4",
     "regions": {
      "f4a53b3d-2fd1-4ae3-9641-7ff116d86db3": {
       "attrs": {
        "height": 0.8,
        "width": 0.8,
        "x": 0.1,
        "y": 0.1
       },
       "content": {
        "cell": "7690dddf-a34c-4b99-aeed-2bdc74d02d8f",
        "part": "whole"
       },
       "id": "f4a53b3d-2fd1-4ae3-9641-7ff116d86db3"
      }
     }
    },
    "e2b94c8c-cddc-45e7-8a1a-71c3625a5887": {
     "id": "e2b94c8c-cddc-45e7-8a1a-71c3625a5887",
     "prev": "e4982bfb-a770-4a50-a469-cb0c45b10c0d",
     "regions": {
      "fd6d70a1-f492-4c9f-8448-2692387c32af": {
       "attrs": {
        "height": 0.8,
        "width": 0.8,
        "x": 0.1,
        "y": 0.1
       },
       "content": {
        "cell": "ad9caa7c-a347-45b5-bb48-eceb6fa785c4",
        "part": "whole"
       },
       "id": "fd6d70a1-f492-4c9f-8448-2692387c32af"
      }
     }
    },
    "e4982bfb-a770-4a50-a469-cb0c45b10c0d": {
     "id": "e4982bfb-a770-4a50-a469-cb0c45b10c0d",
     "prev": "9d40299a-93ef-4ac9-89f1-020e08516276",
     "regions": {
      "4a3225d8-0f16-4c7a-ab76-a1f196801936": {
       "attrs": {
        "height": 0.8,
        "width": 0.8,
        "x": 0.1,
        "y": 0.1
       },
       "content": {
        "cell": "52b2b6ee-7e76-43b4-ae26-487d85857b6f",
        "part": "whole"
       },
       "id": "4a3225d8-0f16-4c7a-ab76-a1f196801936"
      }
     }
    },
    "f3073f91-c94e-418a-901e-716ee1c610a8": {
     "id": "f3073f91-c94e-418a-901e-716ee1c610a8",
     "prev": "4364c1a9-c476-4cc7-9465-a1232f4e115d",
     "regions": {
      "1933e278-af61-427d-beae-77485200f3d1": {
       "attrs": {
        "height": 0.8,
        "width": 0.8,
        "x": 0.1,
        "y": 0.1
       },
       "content": {
        "cell": "28cbb757-cfa0-4e74-a536-a09a9173ff84",
        "part": "whole"
       },
       "id": "1933e278-af61-427d-beae-77485200f3d1"
      }
     }
    },
    "f6ef4144-e890-42c4-8784-34323700e0c4": {
     "id": "f6ef4144-e890-42c4-8784-34323700e0c4",
     "prev": "e0bf4d07-502a-41b8-9eef-972ccb44afe8",
     "regions": {
      "fc0a207b-1c5b-4143-bd96-c32d9bdd5348": {
       "attrs": {
        "height": 0.8,
        "width": 0.8,
        "x": 0.1,
        "y": 0.1
       },
       "content": {
        "cell": "27c955a8-e85b-4b34-8163-f0fe9fa2995b",
        "part": "whole"
       },
       "id": "fc0a207b-1c5b-4143-bd96-c32d9bdd5348"
      }
     }
    },
    "f7fe7df8-2f2b-4d4d-a7d2-a638a5609e74": {
     "id": "f7fe7df8-2f2b-4d4d-a7d2-a638a5609e74",
     "prev": "fde0f7b2-5784-41d7-afeb-952034848714",
     "regions": {
      "d0eb4faa-fd4e-429f-b893-5e4a7a6d2087": {
       "attrs": {
        "height": 0.8,
        "width": 0.8,
        "x": 0.1,
        "y": 0.1
       },
       "content": {
        "cell": "ddac7998-8242-452e-a270-00b3ee888d9e",
        "part": "whole"
       },
       "id": "d0eb4faa-fd4e-429f-b893-5e4a7a6d2087"
      }
     }
    },
    "fb326773-9f70-4f47-b214-351b48896c42": {
     "id": "fb326773-9f70-4f47-b214-351b48896c42",
     "prev": "f7fe7df8-2f2b-4d4d-a7d2-a638a5609e74",
     "regions": {
      "f99e3240-a607-4c6e-8794-d76aa5f6f729": {
       "attrs": {
        "height": 0.8,
        "width": 0.8,
        "x": 0.1,
        "y": 0.1
       },
       "content": {
        "cell": "ad8bd472-6968-4dd9-a938-a5a1c2f09ae3",
        "part": "whole"
       },
       "id": "f99e3240-a607-4c6e-8794-d76aa5f6f729"
      }
     }
    },
    "fd7a8f10-eb55-4eed-a4b9-e73d9332b819": {
     "id": "fd7a8f10-eb55-4eed-a4b9-e73d9332b819",
     "prev": "f3073f91-c94e-418a-901e-716ee1c610a8",
     "regions": {
      "4bf54a79-09c4-4e02-91e7-af68dd5c2a8e": {
       "attrs": {
        "height": 0.8,
        "width": 0.8,
        "x": 0.1,
        "y": 0.1
       },
       "content": {
        "cell": "e188a107-034e-4904-954e-8f8249b5bde3",
        "part": "whole"
       },
       "id": "4bf54a79-09c4-4e02-91e7-af68dd5c2a8e"
      }
     }
    },
    "fde0f7b2-5784-41d7-afeb-952034848714": {
     "id": "fde0f7b2-5784-41d7-afeb-952034848714",
     "prev": "fef0ce8c-3884-42aa-aa65-9264422ad7bb",
     "regions": {
      "f1a57b70-54df-42a3-9a1f-4e418333a1f2": {
       "attrs": {
        "height": 0.8,
        "width": 0.8,
        "x": 0.1,
        "y": 0.1
       },
       "content": {
        "cell": "50d2aee8-135c-4f8e-a47c-bf4a168c76e1",
        "part": "whole"
       },
       "id": "f1a57b70-54df-42a3-9a1f-4e418333a1f2"
      }
     }
    },
    "fef0ce8c-3884-42aa-aa65-9264422ad7bb": {
     "id": "fef0ce8c-3884-42aa-aa65-9264422ad7bb",
     "prev": "c56112db-9a7e-467f-8456-f6e12c40fa29",
     "regions": {
      "d693eace-e13b-45f7-bfb2-2c781a2a8e55": {
       "attrs": {
        "height": 0.8,
        "width": 0.8,
        "x": 0.1,
        "y": 0.1
       },
       "content": {
        "cell": "6d93310c-0ba1-421a-a8da-f1ff2f1166cd",
        "part": "whole"
       },
       "id": "d693eace-e13b-45f7-bfb2-2c781a2a8e55"
      }
     }
    }
   },
   "themes": {
    "default": "e087be9c-ee65-403d-bba5-4b7e92a8cf43",
    "theme": {
     "e087be9c-ee65-403d-bba5-4b7e92a8cf43": {
      "backgrounds": {
       "dc7afa04-bf90-40b1-82a5-726e3cff5267": {
        "background-color": "31af15d2-7e15-44c5-ab5e-e04b16a89eff",
        "id": "dc7afa04-bf90-40b1-82a5-726e3cff5267"
       }
      },
      "id": "e087be9c-ee65-403d-bba5-4b7e92a8cf43",
      "palette": {
       "19cc588f-0593-49c9-9f4b-e4d7cc113b1c": {
        "id": "19cc588f-0593-49c9-9f4b-e4d7cc113b1c",
        "rgb": [
         252,
         252,
         252
        ]
       },
       "31af15d2-7e15-44c5-ab5e-e04b16a89eff": {
        "id": "31af15d2-7e15-44c5-ab5e-e04b16a89eff",
        "rgb": [
         68,
         68,
         68
        ]
       },
       "50f92c45-a630-455b-aec3-788680ec7410": {
        "id": "50f92c45-a630-455b-aec3-788680ec7410",
        "rgb": [
         197,
         226,
         245
        ]
       },
       "c5cc3653-2ee1-402a-aba2-7caae1da4f6c": {
        "id": "c5cc3653-2ee1-402a-aba2-7caae1da4f6c",
        "rgb": [
         43,
         126,
         184
        ]
       },
       "efa7f048-9acb-414c-8b04-a26811511a21": {
        "id": "efa7f048-9acb-414c-8b04-a26811511a21",
        "rgb": [
         25.118061674008803,
         73.60176211453744,
         107.4819383259912
        ]
       }
      },
      "rules": {
       "a": {
        "color": "19cc588f-0593-49c9-9f4b-e4d7cc113b1c"
       },
       "blockquote": {
        "color": "50f92c45-a630-455b-aec3-788680ec7410",
        "font-size": 3
       },
       "code": {
        "font-family": "Anonymous Pro"
       },
       "h1": {
        "color": "19cc588f-0593-49c9-9f4b-e4d7cc113b1c",
        "font-family": "Merriweather",
        "font-size": 8
       },
       "h2": {
        "color": "19cc588f-0593-49c9-9f4b-e4d7cc113b1c",
        "font-family": "Merriweather",
        "font-size": 6
       },
       "h3": {
        "color": "50f92c45-a630-455b-aec3-788680ec7410",
        "font-family": "Lato",
        "font-size": 5.5
       },
       "h4": {
        "color": "c5cc3653-2ee1-402a-aba2-7caae1da4f6c",
        "font-family": "Lato",
        "font-size": 5
       },
       "h5": {
        "font-family": "Lato"
       },
       "h6": {
        "font-family": "Lato"
       },
       "h7": {
        "font-family": "Lato"
       },
       "li": {
        "color": "50f92c45-a630-455b-aec3-788680ec7410",
        "font-size": 3.25
       },
       "pre": {
        "font-family": "Anonymous Pro",
        "font-size": 4
       }
      },
      "text-base": {
       "color": "19cc588f-0593-49c9-9f4b-e4d7cc113b1c",
       "font-family": "Lato",
       "font-size": 4
      }
     }
    }
   }
  }
 },
 "nbformat": 4,
 "nbformat_minor": 2
}
